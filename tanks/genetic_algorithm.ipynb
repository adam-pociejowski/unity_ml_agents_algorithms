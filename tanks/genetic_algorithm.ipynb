{
 "cells": [
  {
   "cell_type": "code",
   "execution_count": 1,
   "metadata": {},
   "outputs": [
    {
     "name": "stdout",
     "output_type": "stream",
     "text": [
      "Python version:\n3.6.6 |Anaconda, Inc.| (default, Jun 28 2018, 11:27:44) [MSC v.1900 64 bit (AMD64)]\n"
     ]
    }
   ],
   "source": [
    "import matplotlib.pyplot as plt\n",
    "import numpy as np\n",
    "import sys\n",
    "import random\n",
    "from gym_unity.envs import UnityEnv\n",
    "%matplotlib inline\n",
    "\n",
    "print(\"Python version:\")\n",
    "print(sys.version)"
   ]
  },
  {
   "cell_type": "code",
   "execution_count": 2,
   "metadata": {},
   "outputs": [],
   "source": [
    "number_of_observations = 42\n",
    "number_of_actions = 6\n",
    "num_of_generations = 20\n",
    "episode_max_length = 2000\n",
    "\n",
    "# Genetic algorithm parameters\n",
    "mutation_rate = 0.05\n",
    "max_mutation_value_change = 0.2\n",
    "number_of_chromosomes = 40\n",
    "number_of_elite_chromosomes = 8\n",
    "\n",
    "# Neural network parameters\n",
    "input_layer_nodes = number_of_observations + 1\n",
    "hidden_layer_nodes = number_of_observations\n",
    "output_layer_nodes = number_of_actions\n",
    "\n",
    "render = True"
   ]
  },
  {
   "cell_type": "code",
   "execution_count": 3,
   "metadata": {},
   "outputs": [],
   "source": [
    "def relu(x):\n",
    "    return np.maximum(0,x)\n",
    "\n",
    "\n",
    "def predict_using_neural_network(observation, chromosome):\n",
    "    input_values = observation / max(np.max(np.linalg.norm(observation)), 1)\n",
    "    input_values = np.insert(1.0, 1, input_values)\n",
    "    hidden_layer_values = relu(np.dot(input_values, chromosome[0]))\n",
    "    output_layer_values = relu(np.dot(hidden_layer_values, chromosome[1]))\n",
    "    return np.argmax(output_layer_values)"
   ]
  },
  {
   "cell_type": "code",
   "execution_count": 4,
   "metadata": {},
   "outputs": [],
   "source": [
    "def prepare_random_population(number_of_chromosomes):\n",
    "    population = []\n",
    "    for i in range(number_of_chromosomes):\n",
    "        hidden_layer_weights = np.random.rand(input_layer_nodes, hidden_layer_nodes)*2 - 1\n",
    "        output_layer_weights = np.random.rand(hidden_layer_nodes, output_layer_nodes)*2 - 1\n",
    "        population.append([hidden_layer_weights, output_layer_weights])\n",
    "    return population"
   ]
  },
  {
   "cell_type": "code",
   "execution_count": 5,
   "metadata": {},
   "outputs": [],
   "source": [
    "def generate_actions(population, observation):\n",
    "    actions = []\n",
    "    for index in range(len(population)):\n",
    "        actions.append(predict_using_neural_network(observation[index], population[index]))\n",
    "    return actions\n",
    "\n",
    "def run_episode(population):\n",
    "    observation = env.reset()\n",
    "    total_rewards = [0.0]*number_of_chromosomes\n",
    "    # Running episode for every agent\n",
    "    for t in range(episode_max_length):\n",
    "        actions = generate_actions(population, observation)\n",
    "        observation, reward, done, info = env.step(actions)\n",
    "        total_rewards = [sum(x) for x in zip(total_rewards, reward)]\n",
    "\n",
    "    return total_rewards"
   ]
  },
  {
   "cell_type": "code",
   "execution_count": 6,
   "metadata": {},
   "outputs": [],
   "source": [
    "def change_to_flatten_list(chromosome):\n",
    "    input_layer = chromosome[0]\n",
    "    input_layer = input_layer.reshape(input_layer.shape[1], -1)\n",
    "    hidden_layer = chromosome[1]\n",
    "    return np.append(input_layer, hidden_layer.reshape(hidden_layer.shape[1], -1))\n",
    "\n",
    "\n",
    "def mutation(chromosome):\n",
    "    random_value = np.random.randint(0, len(chromosome))\n",
    "    if random_value < mutation_rate:\n",
    "        n = np.random.randint(0, len(chromosome))\n",
    "        chromosome[n] += (np.random.rand()*max_mutation_value_change) - max_mutation_value_change / 2\n",
    "    return chromosome\n",
    "\n",
    "\n",
    "def crossover(best_chromosomes):\n",
    "    new_population = best_chromosomes\n",
    "    for index in range(number_of_chromosomes - number_of_elite_chromosomes):\n",
    "        parents = random.sample(range(number_of_elite_chromosomes), 2)\n",
    "        cut_point = random.randint(0, len(best_chromosomes[0]))\n",
    "        new_chromosome = np.append(best_chromosomes[parents[0]][:cut_point], best_chromosomes[parents[1]][cut_point:])\n",
    "        new_chromosome = mutation(new_chromosome)\n",
    "        new_population.append(new_chromosome)\n",
    "    return new_population"
   ]
  },
  {
   "cell_type": "code",
   "execution_count": 7,
   "metadata": {},
   "outputs": [],
   "source": [
    "def generate_next_population(population, rewards):\n",
    "    best_chromosomes_indexes = np.asarray(rewards).argsort()[-number_of_elite_chromosomes:][::-1]\n",
    "    best_chromosomes_list = []\n",
    "    for index in best_chromosomes_indexes:\n",
    "        chromosome_flatten = change_to_flatten_list(population[index])\n",
    "        best_chromosomes_list.append(chromosome_flatten)\n",
    "\n",
    "    new_population_flatten = crossover(best_chromosomes_list)\n",
    "    new_population = []\n",
    "    for chromosome_flatten in new_population_flatten:\n",
    "        input_layer_flatten = np.array(chromosome_flatten[:hidden_layer_nodes * input_layer_nodes])\n",
    "        input_layer_reshaped = np.reshape(input_layer_flatten, (-1, population[0][0].shape[1]))\n",
    "        hidden_layer_flatten = np.array(chromosome_flatten[hidden_layer_nodes * input_layer_nodes:])\n",
    "        hidden_layer_reshaped = np.reshape(hidden_layer_flatten, (-1, population[0][1].shape[1]))\n",
    "        new_population.append([input_layer_reshaped, hidden_layer_reshaped])\n",
    "\n",
    "    return new_population"
   ]
  },
  {
   "cell_type": "code",
   "execution_count": 8,
   "metadata": {},
   "outputs": [
    {
     "name": "stderr",
     "output_type": "stream",
     "text": [
      "INFO:mlagents.envs:\n",
      "'Academy' started successfully!\n",
      "Unity Academy name: Academy\n",
      "        Number of Brains: 1\n",
      "        Number of External Brains : 1\n",
      "        Reset Parameters :\n",
      "\t\t\n",
      "Unity brain name: PPOBrain\n",
      "        Number of Visual Observations (per agent): 0\n",
      "        Vector Observation space size (per agent): 42\n",
      "        Number of stacked Vector Observation: 1\n",
      "        Vector Action space type: discrete\n",
      "        Vector Action space size (per agent): [6]\n",
      "        Vector Action descriptions: \n",
      "INFO:gym_unity:40 agents within environment.\n"
     ]
    },
    {
     "name": "stdout",
     "output_type": "stream",
     "text": [
      "<UnityEnv instance>\n"
     ]
    }
   ],
   "source": [
    "env_name = \"../../env/multi-6-agent/Tanks\" \n",
    "env = UnityEnv(env_name, worker_id=0, use_visual=False, multiagent=True)\n",
    "print(str(env))"
   ]
  },
  {
   "cell_type": "code",
   "execution_count": 9,
   "metadata": {},
   "outputs": [
    {
     "name": "stdout",
     "output_type": "stream",
     "text": [
      "Generation: 1, Avg: -0.08499999883970304, Best: 1.599999967183976\n",
      "Generation: 2, Avg: -0.18749999819992808, Best: 1.7999999718595063\n",
      "Generation: 3, Avg: -0.00250000562191417, Best: 3.1999999246399966\n",
      "Generation: 4, Avg: -0.0075000033162723415, Best: 1.7999999718595063\n",
      "Generation: 5, Avg: 0.18499999231244146, Best: 2.799999955263047\n",
      "Generation: 6, Avg: 0.13749999065548763, Best: 3.2999999352759914\n",
      "Generation: 7, Avg: 0.25749998638948457, Best: 2.3999999459119863\n",
      "Generation: 8, Avg: 0.21249999116407708, Best: 3.5999999339910573\n",
      "Generation: 9, Avg: 0.3649999875262438, Best: 2.9999999199644662\n",
      "Generation: 10, Avg: 0.4124999837536961, Best: 4.599999917394598\n",
      "Generation: 11, Avg: 0.1524999927594763, Best: 2.5999999505875167\n",
      "Generation: 12, Avg: 0.2699999872193075, Best: 3.399999929315527\n",
      "Generation: 13, Avg: 0.569999979572458, Best: 3.499999939951522\n",
      "Generation: 14, Avg: 0.4049999835404378, Best: 3.7999999386665877\n",
      "Generation: 15, Avg: 0.09249999435487552, Best: 2.5999999505875167\n",
      "Generation: 16, Avg: 0.35999998348779627, Best: 2.799999955263047\n",
      "Generation: 17, Avg: 0.42249998057450283, Best: 3.7999999386665877\n",
      "Generation: 18, Avg: 0.2974999864010897, Best: 3.399999929315527\n",
      "Generation: 19, Avg: 0.6174999778922938, Best: 3.7999999386665877\n",
      "Generation: 20, Avg: 0.42249998057450283, Best: 4.799999922070128\n"
     ]
    }
   ],
   "source": [
    "population = prepare_random_population(number_of_chromosomes=number_of_chromosomes)\n",
    "rewards = run_episode(population)\n",
    "for generation in range(num_of_generations):\n",
    "    population = generate_next_population(population, rewards)\n",
    "    rewards = run_episode(population)\n",
    "    best = np.amax(rewards)\n",
    "    avg = np.average(rewards)\n",
    "    print(\"Generation: {}, Avg: {}, Best: {}\".format(generation + 1, avg, best))\n",
    "\n",
    "env.close()"
   ]
  },
  {
   "cell_type": "code",
   "execution_count": null,
   "metadata": {},
   "outputs": [],
   "source": [
    "env.close()"
   ]
  },
  {
   "cell_type": "code",
   "execution_count": null,
   "metadata": {},
   "outputs": [],
   "source": []
  },
  {
   "cell_type": "code",
   "execution_count": null,
   "metadata": {},
   "outputs": [],
   "source": []
  }
 ],
 "metadata": {
  "kernelspec": {
   "display_name": "Python 3",
   "language": "python",
   "name": "python3"
  },
  "language_info": {
   "codemirror_mode": {
    "name": "ipython",
    "version": 3
   },
   "file_extension": ".py",
   "mimetype": "text/x-python",
   "name": "python",
   "nbconvert_exporter": "python",
   "pygments_lexer": "ipython3",
   "version": "3.6.6"
  }
 },
 "nbformat": 4,
 "nbformat_minor": 2
}
