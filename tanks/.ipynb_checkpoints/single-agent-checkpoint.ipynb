{
 "cells": [
  {
   "cell_type": "code",
   "execution_count": 1,
   "metadata": {},
   "outputs": [
    {
     "name": "stdout",
     "output_type": "stream",
     "text": [
      "Python version:\n",
      "3.6.6 |Anaconda, Inc.| (default, Jun 28 2018, 11:27:44) [MSC v.1900 64 bit (AMD64)]\n"
     ]
    }
   ],
   "source": [
    "import matplotlib.pyplot as plt\n",
    "import numpy as np\n",
    "import time\n",
    "import sys\n",
    "from gym_unity.envs import UnityEnv\n",
    "\n",
    "%matplotlib inline\n",
    "\n",
    "print(\"Python version:\")\n",
    "print(sys.version)\n",
    "\n",
    "# check Python version\n",
    "if (sys.version_info[0] < 3):\n",
    "    raise Exception(\"ERROR: ML-Agents Toolkit (v0.3 onwards) requires Python 3\")"
   ]
  },
  {
   "cell_type": "code",
   "execution_count": 12,
   "metadata": {},
   "outputs": [
    {
     "name": "stderr",
     "output_type": "stream",
     "text": [
      "INFO:mlagents.envs:\n",
      "'Academy' started successfully!\n",
      "Unity Academy name: Academy\n",
      "        Number of Brains: 1\n",
      "        Number of External Brains : 1\n",
      "        Reset Parameters :\n",
      "\t\t\n",
      "Unity brain name: PPOBrain\n",
      "        Number of Visual Observations (per agent): 0\n",
      "        Vector Observation space size (per agent): 42\n",
      "        Number of stacked Vector Observation: 1\n",
      "        Vector Action space type: discrete\n",
      "        Vector Action space size (per agent): [6]\n",
      "        Vector Action descriptions: \n",
      "INFO:gym_unity:1 agents within environment.\n"
     ]
    },
    {
     "name": "stdout",
     "output_type": "stream",
     "text": [
      "<UnityEnv instance>\n"
     ]
    }
   ],
   "source": [
    "env_name = \"../../env/single-agent/Tanks\" \n",
    "env = UnityEnv(env_name, worker_id=0, use_visual=False)\n",
    "print(str(env))"
   ]
  },
  {
   "cell_type": "code",
   "execution_count": 15,
   "metadata": {},
   "outputs": [
    {
     "name": "stdout",
     "output_type": "stream",
     "text": [
      "Action: [6], Reward : -0.0004999999655410647\n",
      "Action: [6], Reward : -0.0004999999655410647\n",
      "Action: [6], Reward : -0.0004999999655410647\n",
      "Action: [6], Reward : -0.0004999999655410647\n",
      "Action: [6], Reward : -0.0004999999655410647\n",
      "Action: [6], Reward : -0.0004999999655410647\n",
      "Action: [6], Reward : -0.0004999999655410647\n",
      "Action: [6], Reward : -0.0004999999655410647\n",
      "Action: [6], Reward : -0.0004999999655410647\n",
      "Action: [6], Reward : -0.0004999999655410647\n",
      "Action: [6], Reward : -0.0004999999655410647\n",
      "Action: [6], Reward : -0.0004999999655410647\n",
      "Action: [6], Reward : -0.0004999999655410647\n",
      "Action: [6], Reward : -0.0004999999655410647\n",
      "Action: [6], Reward : -0.0004999999655410647\n",
      "Action: [6], Reward : -0.0004999999655410647\n",
      "Action: [6], Reward : -0.0004999999655410647\n",
      "Action: [6], Reward : -0.0004999999655410647\n",
      "Action: [6], Reward : -0.0004999999655410647\n",
      "Action: [6], Reward : -0.0004999999655410647\n",
      "Action: [6], Reward : -0.0004999999655410647\n",
      "Action: [6], Reward : -0.0004999999655410647\n",
      "Action: [6], Reward : -0.0004999999655410647\n",
      "Action: [6], Reward : -0.0004999999655410647\n",
      "Action: [6], Reward : -0.0004999999655410647\n",
      "Action: [6], Reward : -0.0004999999655410647\n",
      "Action: [6], Reward : -0.0004999999655410647\n",
      "Action: [6], Reward : -0.0004999999655410647\n",
      "Action: [6], Reward : -0.0004999999655410647\n",
      "Action: [6], Reward : -0.0004999999655410647\n",
      "Action: [6], Reward : -0.0004999999655410647\n",
      "Action: [6], Reward : -0.0004999999655410647\n",
      "Action: [6], Reward : -0.0004999999655410647\n",
      "Action: [6], Reward : -0.0004999999655410647\n",
      "Action: [6], Reward : -0.0004999999655410647\n",
      "Action: [6], Reward : -0.0004999999655410647\n",
      "Action: [6], Reward : -0.0004999999655410647\n",
      "Action: [6], Reward : -0.0004999999655410647\n",
      "Action: [6], Reward : -0.0004999999655410647\n",
      "Action: [6], Reward : -0.0004999999655410647\n",
      "Action: [6], Reward : -0.0004999999655410647\n",
      "Action: [6], Reward : -0.0004999999655410647\n",
      "Action: [6], Reward : -0.0004999999655410647\n",
      "Action: [6], Reward : -0.0004999999655410647\n",
      "Action: [6], Reward : -0.0004999999655410647\n",
      "Action: [6], Reward : -0.0004999999655410647\n",
      "Action: [6], Reward : -0.0004999999655410647\n",
      "Action: [6], Reward : -0.0004999999655410647\n",
      "Action: [6], Reward : -0.0004999999655410647\n",
      "Action: [6], Reward : -0.0004999999655410647\n",
      "Action: [6], Reward : -0.0004999999655410647\n",
      "Action: [6], Reward : -0.0004999999655410647\n",
      "Action: [6], Reward : -0.0004999999655410647\n",
      "Action: [6], Reward : -0.0004999999655410647\n",
      "Action: [6], Reward : -0.0004999999655410647\n",
      "Action: [6], Reward : -0.0004999999655410647\n",
      "Action: [6], Reward : -0.0004999999655410647\n",
      "Action: [6], Reward : -0.0004999999655410647\n",
      "Action: [6], Reward : -0.0004999999655410647\n",
      "Action: [6], Reward : -0.0004999999655410647\n",
      "Action: [6], Reward : -0.0004999999655410647\n",
      "Action: [6], Reward : -0.0004999999655410647\n",
      "Action: [6], Reward : -0.0004999999655410647\n",
      "Action: [6], Reward : -0.0004999999655410647\n",
      "Action: [6], Reward : -0.0004999999655410647\n",
      "Action: [6], Reward : -0.0004999999655410647\n",
      "Action: [6], Reward : -0.0004999999655410647\n",
      "Action: [6], Reward : -0.0004999999655410647\n",
      "Action: [6], Reward : -0.0004999999655410647\n",
      "Action: [6], Reward : -0.0004999999655410647\n",
      "Action: [6], Reward : -0.0004999999655410647\n",
      "Action: [6], Reward : -0.0004999999655410647\n",
      "Action: [6], Reward : -0.0004999999655410647\n",
      "Action: [6], Reward : -0.0004999999655410647\n",
      "Action: [6], Reward : -0.0004999999655410647\n",
      "Action: [6], Reward : -0.0004999999655410647\n",
      "Action: [6], Reward : -0.0004999999655410647\n",
      "Action: [6], Reward : -0.0004999999655410647\n",
      "Action: [6], Reward : -0.0004999999655410647\n",
      "Action: [6], Reward : -0.0004999999655410647\n",
      "Action: [6], Reward : -0.0004999999655410647\n",
      "Action: [6], Reward : -0.0004999999655410647\n",
      "Action: [6], Reward : -0.0004999999655410647\n",
      "Action: [6], Reward : -0.0004999999655410647\n",
      "Action: [6], Reward : -0.0004999999655410647\n",
      "Action: [6], Reward : -0.0004999999655410647\n",
      "Action: [6], Reward : -0.0004999999655410647\n",
      "Action: [6], Reward : -0.0004999999655410647\n",
      "Action: [6], Reward : -0.0004999999655410647\n",
      "Action: [6], Reward : -0.0004999999655410647\n",
      "Action: [6], Reward : -0.0004999999655410647\n",
      "Action: [6], Reward : -0.0004999999655410647\n",
      "Action: [6], Reward : -0.0004999999655410647\n",
      "Action: [6], Reward : -0.0004999999655410647\n",
      "Action: [6], Reward : -0.0004999999655410647\n",
      "Action: [6], Reward : -0.0004999999655410647\n",
      "Action: [6], Reward : -0.0004999999655410647\n",
      "Action: [6], Reward : -0.0004999999655410647\n",
      "Action: [6], Reward : -0.0004999999655410647\n",
      "Action: [6], Reward : -0.0004999999655410647\n"
     ]
    }
   ],
   "source": [
    "for episode in range(10):\n",
    "    initial_observation = env.reset()\n",
    "    action = [6]\n",
    "    observation, reward, done, info = env.step(action)\n",
    "    print(\"Action: {}, Reward : {}\".format(action, reward))"
   ]
  },
  {
   "cell_type": "code",
   "execution_count": 11,
   "metadata": {},
   "outputs": [
    {
     "ename": "UnityEnvironmentException",
     "evalue": "No Unity environment is loaded.",
     "output_type": "error",
     "traceback": [
      "\u001b[1;31m---------------------------------------------------------------------------\u001b[0m",
      "\u001b[1;31mUnityEnvironmentException\u001b[0m                 Traceback (most recent call last)",
      "\u001b[1;32m<ipython-input-11-1baceacf4cb1>\u001b[0m in \u001b[0;36m<module>\u001b[1;34m()\u001b[0m\n\u001b[1;32m----> 1\u001b[1;33m \u001b[0menv\u001b[0m\u001b[1;33m.\u001b[0m\u001b[0mclose\u001b[0m\u001b[1;33m(\u001b[0m\u001b[1;33m)\u001b[0m\u001b[1;33m\u001b[0m\u001b[0m\n\u001b[0m",
      "\u001b[1;32mc:\\users\\valverde\\anaconda3\\envs\\ml-agents\\lib\\site-packages\\gym_unity\\envs\\unity_env.py\u001b[0m in \u001b[0;36mclose\u001b[1;34m(self)\u001b[0m\n\u001b[0;32m    169\u001b[0m         \u001b[0mgarbage\u001b[0m \u001b[0mcollected\u001b[0m \u001b[1;32mor\u001b[0m \u001b[0mwhen\u001b[0m \u001b[0mthe\u001b[0m \u001b[0mprogram\u001b[0m \u001b[0mexits\u001b[0m\u001b[1;33m.\u001b[0m\u001b[1;33m\u001b[0m\u001b[0m\n\u001b[0;32m    170\u001b[0m         \"\"\"\n\u001b[1;32m--> 171\u001b[1;33m         \u001b[0mself\u001b[0m\u001b[1;33m.\u001b[0m\u001b[0m_env\u001b[0m\u001b[1;33m.\u001b[0m\u001b[0mclose\u001b[0m\u001b[1;33m(\u001b[0m\u001b[1;33m)\u001b[0m\u001b[1;33m\u001b[0m\u001b[0m\n\u001b[0m\u001b[0;32m    172\u001b[0m \u001b[1;33m\u001b[0m\u001b[0m\n\u001b[0;32m    173\u001b[0m     \u001b[1;32mdef\u001b[0m \u001b[0mget_action_meanings\u001b[0m\u001b[1;33m(\u001b[0m\u001b[0mself\u001b[0m\u001b[1;33m)\u001b[0m\u001b[1;33m:\u001b[0m\u001b[1;33m\u001b[0m\u001b[0m\n",
      "\u001b[1;32mc:\\users\\valverde\\anaconda3\\envs\\ml-agents\\lib\\site-packages\\mlagents\\envs\\environment.py\u001b[0m in \u001b[0;36mclose\u001b[1;34m(self)\u001b[0m\n\u001b[0;32m    399\u001b[0m             \u001b[0mself\u001b[0m\u001b[1;33m.\u001b[0m\u001b[0m_close\u001b[0m\u001b[1;33m(\u001b[0m\u001b[1;33m)\u001b[0m\u001b[1;33m\u001b[0m\u001b[0m\n\u001b[0;32m    400\u001b[0m         \u001b[1;32melse\u001b[0m\u001b[1;33m:\u001b[0m\u001b[1;33m\u001b[0m\u001b[0m\n\u001b[1;32m--> 401\u001b[1;33m             \u001b[1;32mraise\u001b[0m \u001b[0mUnityEnvironmentException\u001b[0m\u001b[1;33m(\u001b[0m\u001b[1;34m\"No Unity environment is loaded.\"\u001b[0m\u001b[1;33m)\u001b[0m\u001b[1;33m\u001b[0m\u001b[0m\n\u001b[0m\u001b[0;32m    402\u001b[0m \u001b[1;33m\u001b[0m\u001b[0m\n\u001b[0;32m    403\u001b[0m     \u001b[1;32mdef\u001b[0m \u001b[0m_close\u001b[0m\u001b[1;33m(\u001b[0m\u001b[0mself\u001b[0m\u001b[1;33m)\u001b[0m\u001b[1;33m:\u001b[0m\u001b[1;33m\u001b[0m\u001b[0m\n",
      "\u001b[1;31mUnityEnvironmentException\u001b[0m: No Unity environment is loaded."
     ]
    }
   ],
   "source": [
    "env.close()"
   ]
  },
  {
   "cell_type": "code",
   "execution_count": null,
   "metadata": {},
   "outputs": [],
   "source": []
  }
 ],
 "metadata": {
  "kernelspec": {
   "display_name": "Python 3",
   "language": "python",
   "name": "python3"
  },
  "language_info": {
   "codemirror_mode": {
    "name": "ipython",
    "version": 3
   },
   "file_extension": ".py",
   "mimetype": "text/x-python",
   "name": "python",
   "nbconvert_exporter": "python",
   "pygments_lexer": "ipython3",
   "version": "3.6.6"
  }
 },
 "nbformat": 4,
 "nbformat_minor": 2
}
