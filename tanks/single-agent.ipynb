{
 "cells": [
  {
   "cell_type": "code",
   "execution_count": 1,
   "metadata": {},
   "outputs": [
    {
     "name": "stdout",
     "output_type": "stream",
     "text": [
      "Python version:\n",
      "3.6.6 |Anaconda, Inc.| (default, Jun 28 2018, 11:27:44) [MSC v.1900 64 bit (AMD64)]\n"
     ]
    }
   ],
   "source": [
    "import matplotlib.pyplot as plt\n",
    "import numpy as np\n",
    "import time\n",
    "import sys\n",
    "from gym_unity.envs import UnityEnv\n",
    "\n",
    "%matplotlib inline\n",
    "\n",
    "print(\"Python version:\")\n",
    "print(sys.version)\n",
    "\n",
    "# check Python version\n",
    "if (sys.version_info[0] < 3):\n",
    "    raise Exception(\"ERROR: ML-Agents Toolkit (v0.3 onwards) requires Python 3\")"
   ]
  },
  {
   "cell_type": "code",
   "execution_count": 2,
   "metadata": {},
   "outputs": [
    {
     "ename": "UnityTimeOutException",
     "evalue": "The Unity environment took too long to respond. Make sure that :\n\t The environment does not need user interaction to launch\n\t The Academy and the External Brain(s) are attached to objects in the Scene\n\t The environment and the Python interface have compatible versions.",
     "output_type": "error",
     "traceback": [
      "\u001b[1;31m---------------------------------------------------------------------------\u001b[0m",
      "\u001b[1;31mUnityTimeOutException\u001b[0m                     Traceback (most recent call last)",
      "\u001b[1;32m<ipython-input-2-f16445ba81c2>\u001b[0m in \u001b[0;36m<module>\u001b[1;34m()\u001b[0m\n\u001b[0;32m      1\u001b[0m \u001b[0menv_name\u001b[0m \u001b[1;33m=\u001b[0m \u001b[1;34m\"../../env/single-agent/Tanks\"\u001b[0m\u001b[1;33m\u001b[0m\u001b[0m\n\u001b[1;32m----> 2\u001b[1;33m \u001b[0menv\u001b[0m \u001b[1;33m=\u001b[0m \u001b[0mUnityEnv\u001b[0m\u001b[1;33m(\u001b[0m\u001b[0menv_name\u001b[0m\u001b[1;33m,\u001b[0m \u001b[0mworker_id\u001b[0m\u001b[1;33m=\u001b[0m\u001b[1;36m0\u001b[0m\u001b[1;33m,\u001b[0m \u001b[0muse_visual\u001b[0m\u001b[1;33m=\u001b[0m\u001b[1;32mFalse\u001b[0m\u001b[1;33m)\u001b[0m\u001b[1;33m\u001b[0m\u001b[0m\n\u001b[0m\u001b[0;32m      3\u001b[0m \u001b[0mprint\u001b[0m\u001b[1;33m(\u001b[0m\u001b[0mstr\u001b[0m\u001b[1;33m(\u001b[0m\u001b[0menv\u001b[0m\u001b[1;33m)\u001b[0m\u001b[1;33m)\u001b[0m\u001b[1;33m\u001b[0m\u001b[0m\n",
      "\u001b[1;32mc:\\users\\valverde\\anaconda3\\envs\\ml-agents\\lib\\site-packages\\gym_unity\\envs\\unity_env.py\u001b[0m in \u001b[0;36m__init__\u001b[1;34m(self, environment_filename, worker_id, use_visual, multiagent)\u001b[0m\n\u001b[0;32m     32\u001b[0m         \u001b[1;33m:\u001b[0m\u001b[0mparam\u001b[0m \u001b[0mmultiagent\u001b[0m\u001b[1;33m:\u001b[0m \u001b[0mWhether\u001b[0m \u001b[0mto\u001b[0m \u001b[0mrun\u001b[0m \u001b[1;32min\u001b[0m \u001b[0mmulti\u001b[0m\u001b[1;33m-\u001b[0m\u001b[0magent\u001b[0m \u001b[0mmode\u001b[0m \u001b[1;33m(\u001b[0m\u001b[0mlists\u001b[0m \u001b[0mof\u001b[0m \u001b[0mobs\u001b[0m\u001b[1;33m,\u001b[0m \u001b[0mreward\u001b[0m\u001b[1;33m,\u001b[0m \u001b[0mdone\u001b[0m\u001b[1;33m)\u001b[0m\u001b[1;33m.\u001b[0m\u001b[1;33m\u001b[0m\u001b[0m\n\u001b[0;32m     33\u001b[0m         \"\"\"\n\u001b[1;32m---> 34\u001b[1;33m         \u001b[0mself\u001b[0m\u001b[1;33m.\u001b[0m\u001b[0m_env\u001b[0m \u001b[1;33m=\u001b[0m \u001b[0mUnityEnvironment\u001b[0m\u001b[1;33m(\u001b[0m\u001b[0menvironment_filename\u001b[0m\u001b[1;33m,\u001b[0m \u001b[0mworker_id\u001b[0m\u001b[1;33m)\u001b[0m\u001b[1;33m\u001b[0m\u001b[0m\n\u001b[0m\u001b[0;32m     35\u001b[0m         \u001b[0mself\u001b[0m\u001b[1;33m.\u001b[0m\u001b[0mname\u001b[0m \u001b[1;33m=\u001b[0m \u001b[0mself\u001b[0m\u001b[1;33m.\u001b[0m\u001b[0m_env\u001b[0m\u001b[1;33m.\u001b[0m\u001b[0macademy_name\u001b[0m\u001b[1;33m\u001b[0m\u001b[0m\n\u001b[0;32m     36\u001b[0m         \u001b[0mself\u001b[0m\u001b[1;33m.\u001b[0m\u001b[0mvisual_obs\u001b[0m \u001b[1;33m=\u001b[0m \u001b[1;32mNone\u001b[0m\u001b[1;33m\u001b[0m\u001b[0m\n",
      "\u001b[1;32mc:\\users\\valverde\\anaconda3\\envs\\ml-agents\\lib\\site-packages\\mlagents\\envs\\environment.py\u001b[0m in \u001b[0;36m__init__\u001b[1;34m(self, file_name, worker_id, base_port, seed, docker_training, no_graphics)\u001b[0m\n\u001b[0;32m     65\u001b[0m         )\n\u001b[0;32m     66\u001b[0m         \u001b[1;32mtry\u001b[0m\u001b[1;33m:\u001b[0m\u001b[1;33m\u001b[0m\u001b[0m\n\u001b[1;32m---> 67\u001b[1;33m             \u001b[0maca_params\u001b[0m \u001b[1;33m=\u001b[0m \u001b[0mself\u001b[0m\u001b[1;33m.\u001b[0m\u001b[0msend_academy_parameters\u001b[0m\u001b[1;33m(\u001b[0m\u001b[0mrl_init_parameters_in\u001b[0m\u001b[1;33m)\u001b[0m\u001b[1;33m\u001b[0m\u001b[0m\n\u001b[0m\u001b[0;32m     68\u001b[0m         \u001b[1;32mexcept\u001b[0m \u001b[0mUnityTimeOutException\u001b[0m\u001b[1;33m:\u001b[0m\u001b[1;33m\u001b[0m\u001b[0m\n\u001b[0;32m     69\u001b[0m             \u001b[0mself\u001b[0m\u001b[1;33m.\u001b[0m\u001b[0m_close\u001b[0m\u001b[1;33m(\u001b[0m\u001b[1;33m)\u001b[0m\u001b[1;33m\u001b[0m\u001b[0m\n",
      "\u001b[1;32mc:\\users\\valverde\\anaconda3\\envs\\ml-agents\\lib\\site-packages\\mlagents\\envs\\environment.py\u001b[0m in \u001b[0;36msend_academy_parameters\u001b[1;34m(self, init_parameters)\u001b[0m\n\u001b[0;32m    525\u001b[0m         \u001b[0minputs\u001b[0m \u001b[1;33m=\u001b[0m \u001b[0mUnityInput\u001b[0m\u001b[1;33m(\u001b[0m\u001b[1;33m)\u001b[0m\u001b[1;33m\u001b[0m\u001b[0m\n\u001b[0;32m    526\u001b[0m         \u001b[0minputs\u001b[0m\u001b[1;33m.\u001b[0m\u001b[0mrl_initialization_input\u001b[0m\u001b[1;33m.\u001b[0m\u001b[0mCopyFrom\u001b[0m\u001b[1;33m(\u001b[0m\u001b[0minit_parameters\u001b[0m\u001b[1;33m)\u001b[0m\u001b[1;33m\u001b[0m\u001b[0m\n\u001b[1;32m--> 527\u001b[1;33m         \u001b[1;32mreturn\u001b[0m \u001b[0mself\u001b[0m\u001b[1;33m.\u001b[0m\u001b[0mcommunicator\u001b[0m\u001b[1;33m.\u001b[0m\u001b[0minitialize\u001b[0m\u001b[1;33m(\u001b[0m\u001b[0minputs\u001b[0m\u001b[1;33m)\u001b[0m\u001b[1;33m.\u001b[0m\u001b[0mrl_initialization_output\u001b[0m\u001b[1;33m\u001b[0m\u001b[0m\n\u001b[0m\u001b[0;32m    528\u001b[0m \u001b[1;33m\u001b[0m\u001b[0m\n\u001b[0;32m    529\u001b[0m     \u001b[1;32mdef\u001b[0m \u001b[0mwrap_unity_input\u001b[0m\u001b[1;33m(\u001b[0m\u001b[0mself\u001b[0m\u001b[1;33m,\u001b[0m \u001b[0mrl_input\u001b[0m\u001b[1;33m:\u001b[0m \u001b[0mUnityRLInput\u001b[0m\u001b[1;33m)\u001b[0m \u001b[1;33m->\u001b[0m \u001b[0mUnityOutput\u001b[0m\u001b[1;33m:\u001b[0m\u001b[1;33m\u001b[0m\u001b[0m\n",
      "\u001b[1;32mc:\\users\\valverde\\anaconda3\\envs\\ml-agents\\lib\\site-packages\\mlagents\\envs\\rpc_communicator.py\u001b[0m in \u001b[0;36minitialize\u001b[1;34m(self, inputs)\u001b[0m\n\u001b[0;32m     59\u001b[0m         \u001b[1;32mif\u001b[0m \u001b[1;32mnot\u001b[0m \u001b[0mself\u001b[0m\u001b[1;33m.\u001b[0m\u001b[0munity_to_external\u001b[0m\u001b[1;33m.\u001b[0m\u001b[0mparent_conn\u001b[0m\u001b[1;33m.\u001b[0m\u001b[0mpoll\u001b[0m\u001b[1;33m(\u001b[0m\u001b[1;36m30\u001b[0m\u001b[1;33m)\u001b[0m\u001b[1;33m:\u001b[0m\u001b[1;33m\u001b[0m\u001b[0m\n\u001b[0;32m     60\u001b[0m             raise UnityTimeOutException(\n\u001b[1;32m---> 61\u001b[1;33m                 \u001b[1;34m\"The Unity environment took too long to respond. Make sure that :\\n\"\u001b[0m\u001b[1;33m\u001b[0m\u001b[0m\n\u001b[0m\u001b[0;32m     62\u001b[0m                 \u001b[1;34m\"\\t The environment does not need user interaction to launch\\n\"\u001b[0m\u001b[1;33m\u001b[0m\u001b[0m\n\u001b[0;32m     63\u001b[0m                 \u001b[1;34m\"\\t The Academy and the External Brain(s) are attached to objects in the Scene\\n\"\u001b[0m\u001b[1;33m\u001b[0m\u001b[0m\n",
      "\u001b[1;31mUnityTimeOutException\u001b[0m: The Unity environment took too long to respond. Make sure that :\n\t The environment does not need user interaction to launch\n\t The Academy and the External Brain(s) are attached to objects in the Scene\n\t The environment and the Python interface have compatible versions."
     ]
    }
   ],
   "source": [
    "env_name = \"../../env/single-agent/Tanks\" \n",
    "env = UnityEnv(env_name, worker_id=0, use_visual=False)\n",
    "print(str(env))"
   ]
  },
  {
   "cell_type": "code",
   "execution_count": 18,
   "metadata": {},
   "outputs": [
    {
     "name": "stdout",
     "output_type": "stream",
     "text": [
      "Action: [5], Reward : -0.0004999999655410647\n",
      "Action: [5], Reward : -0.0004999999655410647\n",
      "Action: [5], Reward : -0.0004999999655410647\n",
      "Action: [5], Reward : -0.0004999999655410647\n",
      "Action: [5], Reward : -0.0004999999655410647\n",
      "Action: [5], Reward : -0.0004999999655410647\n",
      "Action: [5], Reward : -0.0004999999655410647\n",
      "Action: [5], Reward : -0.0004999999655410647\n",
      "Action: [5], Reward : -0.0004999999655410647\n",
      "Action: [5], Reward : -0.0004999999655410647\n",
      "Action: [5], Reward : -0.0004999999655410647\n",
      "Action: [5], Reward : -0.0004999999655410647\n",
      "Action: [5], Reward : -0.0004999999655410647\n",
      "Action: [5], Reward : -0.0004999999655410647\n",
      "Action: [5], Reward : -0.0004999999655410647\n",
      "Action: [5], Reward : -0.0004999999655410647\n",
      "Action: [5], Reward : -0.0004999999655410647\n",
      "Action: [5], Reward : -0.0004999999655410647\n",
      "Action: [5], Reward : -0.0004999999655410647\n",
      "Action: [5], Reward : -0.0004999999655410647\n",
      "Action: [5], Reward : -0.0004999999655410647\n",
      "Action: [5], Reward : -0.0004999999655410647\n",
      "Action: [5], Reward : -0.0004999999655410647\n",
      "Action: [5], Reward : -0.0004999999655410647\n",
      "Action: [5], Reward : -0.0004999999655410647\n",
      "Action: [5], Reward : -0.0004999999655410647\n",
      "Action: [5], Reward : -0.0004999999655410647\n",
      "Action: [5], Reward : -0.0004999999655410647\n",
      "Action: [5], Reward : -0.0004999999655410647\n",
      "Action: [5], Reward : -0.0004999999655410647\n",
      "Action: [5], Reward : -0.0004999999655410647\n",
      "Action: [5], Reward : -0.0004999999655410647\n",
      "Action: [5], Reward : -0.0004999999655410647\n",
      "Action: [5], Reward : -0.0004999999655410647\n",
      "Action: [5], Reward : -0.0004999999655410647\n",
      "Action: [5], Reward : -0.0004999999655410647\n",
      "Action: [5], Reward : -0.0004999999655410647\n",
      "Action: [5], Reward : -0.0004999999655410647\n",
      "Action: [5], Reward : -0.0004999999655410647\n",
      "Action: [5], Reward : -0.0004999999655410647\n",
      "Action: [5], Reward : -0.0004999999655410647\n",
      "Action: [5], Reward : -0.0004999999655410647\n",
      "Action: [5], Reward : -0.0004999999655410647\n",
      "Action: [5], Reward : -0.0004999999655410647\n",
      "Action: [5], Reward : -0.0004999999655410647\n",
      "Action: [5], Reward : -0.0004999999655410647\n",
      "Action: [5], Reward : -0.0004999999655410647\n",
      "Action: [5], Reward : -0.0004999999655410647\n",
      "Action: [5], Reward : -0.0004999999655410647\n",
      "Action: [5], Reward : -0.0004999999655410647\n",
      "Action: [5], Reward : -0.0004999999655410647\n",
      "Action: [5], Reward : -0.0004999999655410647\n",
      "Action: [5], Reward : -0.0004999999655410647\n",
      "Action: [5], Reward : -0.0004999999655410647\n",
      "Action: [5], Reward : -0.0004999999655410647\n",
      "Action: [5], Reward : -0.0004999999655410647\n",
      "Action: [5], Reward : -0.0004999999655410647\n",
      "Action: [5], Reward : -0.0004999999655410647\n",
      "Action: [5], Reward : -0.0004999999655410647\n",
      "Action: [5], Reward : -0.0004999999655410647\n",
      "Action: [5], Reward : -0.0004999999655410647\n",
      "Action: [5], Reward : -0.0004999999655410647\n",
      "Action: [5], Reward : -0.0004999999655410647\n",
      "Action: [5], Reward : -0.0004999999655410647\n",
      "Action: [5], Reward : -0.0004999999655410647\n",
      "Action: [5], Reward : -0.0004999999655410647\n",
      "Action: [5], Reward : -0.0004999999655410647\n",
      "Action: [5], Reward : -0.0004999999655410647\n",
      "Action: [5], Reward : -0.0004999999655410647\n",
      "Action: [5], Reward : -0.0004999999655410647\n",
      "Action: [5], Reward : -0.0004999999655410647\n",
      "Action: [5], Reward : -0.0004999999655410647\n",
      "Action: [5], Reward : -0.0004999999655410647\n",
      "Action: [5], Reward : -0.0004999999655410647\n",
      "Action: [5], Reward : -0.0004999999655410647\n",
      "Action: [5], Reward : -0.0004999999655410647\n",
      "Action: [5], Reward : -0.0004999999655410647\n",
      "Action: [5], Reward : -0.0004999999655410647\n",
      "Action: [5], Reward : -0.0004999999655410647\n",
      "Action: [5], Reward : -0.0004999999655410647\n",
      "Action: [5], Reward : -0.0004999999655410647\n",
      "Action: [5], Reward : -0.0004999999655410647\n",
      "Action: [5], Reward : -0.0004999999655410647\n",
      "Action: [5], Reward : -0.0004999999655410647\n",
      "Action: [5], Reward : -0.0004999999655410647\n",
      "Action: [5], Reward : -0.0004999999655410647\n",
      "Action: [5], Reward : -0.0004999999655410647\n",
      "Action: [5], Reward : -0.0004999999655410647\n",
      "Action: [5], Reward : -0.0004999999655410647\n",
      "Action: [5], Reward : -0.0004999999655410647\n",
      "Action: [5], Reward : -0.0004999999655410647\n",
      "Action: [5], Reward : -0.0004999999655410647\n",
      "Action: [5], Reward : -0.0004999999655410647\n",
      "Action: [5], Reward : -0.0004999999655410647\n",
      "Action: [5], Reward : -0.0004999999655410647\n",
      "Action: [5], Reward : -0.0004999999655410647\n",
      "Action: [5], Reward : -0.0004999999655410647\n",
      "Action: [5], Reward : -0.0004999999655410647\n",
      "Action: [5], Reward : -0.0004999999655410647\n",
      "Action: [5], Reward : -0.0004999999655410647\n"
     ]
    }
   ],
   "source": [
    "for episode in range(100):\n",
    "    initial_observation = env.reset()\n",
    "    action = [5]\n",
    "    observation, reward, done, info = env.step(action)\n",
    "    print(\"Action: {}, Reward : {}\".format(action, reward))"
   ]
  },
  {
   "cell_type": "code",
   "execution_count": 19,
   "metadata": {},
   "outputs": [],
   "source": [
    "env.close()"
   ]
  },
  {
   "cell_type": "code",
   "execution_count": null,
   "metadata": {},
   "outputs": [],
   "source": []
  }
 ],
 "metadata": {
  "kernelspec": {
   "display_name": "Python 3",
   "language": "python",
   "name": "python3"
  },
  "language_info": {
   "codemirror_mode": {
    "name": "ipython",
    "version": 3
   },
   "file_extension": ".py",
   "mimetype": "text/x-python",
   "name": "python",
   "nbconvert_exporter": "python",
   "pygments_lexer": "ipython3",
   "version": "3.6.6"
  }
 },
 "nbformat": 4,
 "nbformat_minor": 2
}
